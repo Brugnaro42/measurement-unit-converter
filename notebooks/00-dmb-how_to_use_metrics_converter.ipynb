{
 "cells": [
  {
   "cell_type": "markdown",
   "id": "49f8c816",
   "metadata": {
    "ExecuteTime": {
     "start_time": "2022-08-30T18:38:58.970Z"
    }
   },
   "source": [
    "# How to Use Metrics Converter"
   ]
  },
  {
   "cell_type": "markdown",
   "id": "7b1d47cd",
   "metadata": {
    "ExecuteTime": {
     "start_time": "2022-08-30T18:38:58.970Z"
    }
   },
   "source": [
    "This notebook exemplifies how to use the metrics converter developed and stored in `src/data`"
   ]
  },
  {
   "cell_type": "markdown",
   "id": "60c151ba",
   "metadata": {
    "toc": true
   },
   "source": [
    "<h1>Sumário<span class=\"tocSkip\"></span></h1>\n",
    "<div class=\"toc\"><ul class=\"toc-item\"><li><span><a href=\"#Currency-Quotes\" data-toc-modified-id=\"Currency-Quotes-1\"><span class=\"toc-item-num\">1&nbsp;&nbsp;</span>Currency Quotes</a></span></li><li><span><a href=\"#Converter\" data-toc-modified-id=\"Converter-2\"><span class=\"toc-item-num\">2&nbsp;&nbsp;</span>Converter</a></span><ul class=\"toc-item\"><li><span><a href=\"#Weights\" data-toc-modified-id=\"Weights-2.1\"><span class=\"toc-item-num\">2.1&nbsp;&nbsp;</span>Weights</a></span></li><li><span><a href=\"#Temperature\" data-toc-modified-id=\"Temperature-2.2\"><span class=\"toc-item-num\">2.2&nbsp;&nbsp;</span>Temperature</a></span></li><li><span><a href=\"#Area\" data-toc-modified-id=\"Area-2.3\"><span class=\"toc-item-num\">2.3&nbsp;&nbsp;</span>Area</a></span></li><li><span><a href=\"#Lenght\" data-toc-modified-id=\"Lenght-2.4\"><span class=\"toc-item-num\">2.4&nbsp;&nbsp;</span>Lenght</a></span></li><li><span><a href=\"#Currency\" data-toc-modified-id=\"Currency-2.5\"><span class=\"toc-item-num\">2.5&nbsp;&nbsp;</span>Currency</a></span></li><li><span><a href=\"#Quotes\" data-toc-modified-id=\"Quotes-2.6\"><span class=\"toc-item-num\">2.6&nbsp;&nbsp;</span>Quotes</a></span></li></ul></li></ul></div>"
   ]
  },
  {
   "cell_type": "code",
   "execution_count": 1,
   "id": "efb83be2",
   "metadata": {
    "ExecuteTime": {
     "end_time": "2022-08-30T19:50:11.000318Z",
     "start_time": "2022-08-30T19:50:09.710971Z"
    }
   },
   "outputs": [],
   "source": [
    "# Snippet to include the codes developed inside src/\n",
    "import sys\n",
    "sys.path.append(\"../src\")\n",
    "\n",
    "# Converter functions\n",
    "from data.converter import metrics_converter\n",
    "from data.utils import get_currency_quotes"
   ]
  },
  {
   "cell_type": "markdown",
   "id": "c19d111f",
   "metadata": {},
   "source": [
    "## Currency Quotes"
   ]
  },
  {
   "cell_type": "markdown",
   "id": "4db1a5fd",
   "metadata": {},
   "source": [
    "The `get_currency_quotes()` is a function to get the quotes of the input currency in the output currency values.\n",
    "\n",
    "It returns some valuable info, but the main info is in the `'ask'`field."
   ]
  },
  {
   "cell_type": "code",
   "execution_count": 2,
   "id": "f0b48c1d",
   "metadata": {
    "ExecuteTime": {
     "end_time": "2022-08-30T19:50:11.522609Z",
     "start_time": "2022-08-30T19:50:11.005271Z"
    }
   },
   "outputs": [
    {
     "name": "stdout",
     "output_type": "stream",
     "text": [
      "01-09-2022 11:20:39.580 INFO utils - get_currency_quotes: Requesting from https://economia.awesomeapi.com.br/json/daily/USD-BRL/2\n",
      "01-09-2022 11:20:39.726 INFO utils - get_currency_quotes: Got the values for USDBRL with success\n"
     ]
    },
    {
     "data": {
      "text/plain": [
       "{'high': '5.1842',\n",
       " 'low': '5.1833',\n",
       " 'varBid': '0.0002',\n",
       " 'pctChange': '0',\n",
       " 'bid': '5.1828',\n",
       " 'ask': 5.1838,\n",
       " 'timestamp': '1661990360',\n",
       " 'USDBRL': {...}}"
      ]
     },
     "execution_count": 2,
     "metadata": {},
     "output_type": "execute_result"
    }
   ],
   "source": [
    "# Getting USD quote in BRL\n",
    "USD2BRL = get_currency_quotes()\n",
    "USD2BRL"
   ]
  },
  {
   "cell_type": "code",
   "execution_count": 3,
   "id": "7b010c24",
   "metadata": {
    "ExecuteTime": {
     "end_time": "2022-08-30T19:50:11.999217Z",
     "start_time": "2022-08-30T19:50:11.526456Z"
    }
   },
   "outputs": [
    {
     "name": "stdout",
     "output_type": "stream",
     "text": [
      "01-09-2022 11:20:39.757 INFO utils - get_currency_quotes: Requesting from https://economia.awesomeapi.com.br/json/daily/USD-BRL/2\n",
      "01-09-2022 11:20:39.853 INFO utils - get_currency_quotes: Got the values for USDBRL with success\n"
     ]
    },
    {
     "data": {
      "text/plain": [
       "{'high': '5.1842',\n",
       " 'low': '5.1833',\n",
       " 'varBid': '0.0002',\n",
       " 'pctChange': '0',\n",
       " 'bid': '5.1828',\n",
       " 'ask': 5.1838,\n",
       " 'timestamp': '1661990360',\n",
       " 'USDBRL': {...}}"
      ]
     },
     "execution_count": 3,
     "metadata": {},
     "output_type": "execute_result"
    }
   ],
   "source": [
    "# Getting USD quote in BRL\n",
    "USD2BRL = get_currency_quotes()\n",
    "USD2BRL"
   ]
  },
  {
   "cell_type": "code",
   "execution_count": 4,
   "id": "5641de49",
   "metadata": {
    "ExecuteTime": {
     "end_time": "2022-08-30T19:50:12.523891Z",
     "start_time": "2022-08-30T19:50:12.006205Z"
    }
   },
   "outputs": [
    {
     "name": "stdout",
     "output_type": "stream",
     "text": [
      "01-09-2022 11:20:39.864 INFO utils - get_currency_quotes: Requesting from https://economia.awesomeapi.com.br/json/daily/EUR-BRL/2\n",
      "01-09-2022 11:20:40.060 INFO utils - get_currency_quotes: Got the values for EURBRL with success\n"
     ]
    },
    {
     "data": {
      "text/plain": [
       "{'high': '5.2125',\n",
       " 'low': '5.2014',\n",
       " 'varBid': '-0.0091',\n",
       " 'pctChange': '-0.17',\n",
       " 'bid': '5.202',\n",
       " 'ask': 5.2051,\n",
       " 'timestamp': '1661990363',\n",
       " 'EURBRL': {...}}"
      ]
     },
     "execution_count": 4,
     "metadata": {},
     "output_type": "execute_result"
    }
   ],
   "source": [
    "# Getting EUR quote in BRL\n",
    "USD2BRL = get_currency_quotes(\"EUR\", \"BRL\")\n",
    "USD2BRL"
   ]
  },
  {
   "cell_type": "markdown",
   "id": "195a5bc3",
   "metadata": {},
   "source": [
    "## Converter"
   ]
  },
  {
   "cell_type": "markdown",
   "id": "3023d8b5",
   "metadata": {},
   "source": [
    "The `metrics_converter` is a class to convert the metric values passed to each measurement type."
   ]
  },
  {
   "cell_type": "code",
   "execution_count": 5,
   "id": "003c86c7",
   "metadata": {
    "ExecuteTime": {
     "end_time": "2022-08-30T19:50:12.538891Z",
     "start_time": "2022-08-30T19:50:12.528890Z"
    }
   },
   "outputs": [],
   "source": [
    "# First, you need the instance of the class in the object\n",
    "converter = metrics_converter()"
   ]
  },
  {
   "cell_type": "markdown",
   "id": "597d09f3",
   "metadata": {},
   "source": [
    "### Weights"
   ]
  },
  {
   "cell_type": "code",
   "execution_count": 6,
   "id": "56cb1de6",
   "metadata": {
    "ExecuteTime": {
     "end_time": "2022-08-30T19:50:12.555026Z",
     "start_time": "2022-08-30T19:50:12.543890Z"
    }
   },
   "outputs": [
    {
     "data": {
      "text/plain": [
       "1.0"
      ]
     },
     "execution_count": 6,
     "metadata": {},
     "output_type": "execute_result"
    }
   ],
   "source": [
    "# Kg to Ton\n",
    "value = 1000\n",
    "converter.convert_weights(value, 'kg', 'ton')"
   ]
  },
  {
   "cell_type": "code",
   "execution_count": 7,
   "id": "0688d71a",
   "metadata": {
    "ExecuteTime": {
     "end_time": "2022-08-30T19:50:12.584892Z",
     "start_time": "2022-08-30T19:50:12.558892Z"
    }
   },
   "outputs": [
    {
     "data": {
      "text/plain": [
       "25.4"
      ]
     },
     "execution_count": 7,
     "metadata": {},
     "output_type": "execute_result"
    }
   ],
   "source": [
    "# bushel to Kg\n",
    "value = 1\n",
    "product = 'Milho'\n",
    "converter.convert_weights(value, 'bushel', 'kg', product)"
   ]
  },
  {
   "cell_type": "code",
   "execution_count": 8,
   "id": "bf93fa3e",
   "metadata": {
    "ExecuteTime": {
     "end_time": "2022-08-30T19:50:12.615901Z",
     "start_time": "2022-08-30T19:50:12.590891Z"
    }
   },
   "outputs": [
    {
     "data": {
      "text/plain": [
       "0.027"
      ]
     },
     "execution_count": 8,
     "metadata": {},
     "output_type": "execute_result"
    }
   ],
   "source": [
    "# bushel to ton\n",
    "value = 1\n",
    "product = 'Soja'\n",
    "converter.convert_weights(value, 'bushel', 'ton', product)"
   ]
  },
  {
   "cell_type": "markdown",
   "id": "58de2778",
   "metadata": {},
   "source": [
    "### Temperature"
   ]
  },
  {
   "cell_type": "code",
   "execution_count": 9,
   "id": "d72005d1",
   "metadata": {
    "ExecuteTime": {
     "end_time": "2022-08-30T19:50:12.632901Z",
     "start_time": "2022-08-30T19:50:12.620890Z"
    }
   },
   "outputs": [
    {
     "data": {
      "text/plain": [
       "86.0"
      ]
     },
     "execution_count": 9,
     "metadata": {},
     "output_type": "execute_result"
    }
   ],
   "source": [
    "# Cº to Fº\n",
    "converter.convert_temperature(30, \"C\", \"F\")"
   ]
  },
  {
   "cell_type": "code",
   "execution_count": 10,
   "id": "f9fbba13",
   "metadata": {
    "ExecuteTime": {
     "end_time": "2022-08-30T19:51:20.312174Z",
     "start_time": "2022-08-30T19:51:20.305861Z"
    }
   },
   "outputs": [
    {
     "data": {
      "text/plain": [
       "30.0"
      ]
     },
     "execution_count": 10,
     "metadata": {},
     "output_type": "execute_result"
    }
   ],
   "source": [
    "# Fº to Cº\n",
    "converter.convert_temperature(86, \"F\", \"C\")"
   ]
  },
  {
   "cell_type": "markdown",
   "id": "40a113d9",
   "metadata": {},
   "source": [
    "### Area"
   ]
  },
  {
   "cell_type": "code",
   "execution_count": 11,
   "id": "74596c38",
   "metadata": {
    "ExecuteTime": {
     "end_time": "2022-08-30T19:53:28.943801Z",
     "start_time": "2022-08-30T19:53:28.929307Z"
    }
   },
   "outputs": [
    {
     "data": {
      "text/plain": [
       "247.1"
      ]
     },
     "execution_count": 11,
     "metadata": {},
     "output_type": "execute_result"
    }
   ],
   "source": [
    "# Ha to Ac\n",
    "converter.convert_area(100, \"ha\", \"ac\")"
   ]
  },
  {
   "cell_type": "code",
   "execution_count": 12,
   "id": "861fb0e4",
   "metadata": {
    "ExecuteTime": {
     "end_time": "2022-08-30T19:53:52.841943Z",
     "start_time": "2022-08-30T19:53:52.826370Z"
    }
   },
   "outputs": [
    {
     "data": {
      "text/plain": [
       "100.0"
      ]
     },
     "execution_count": 12,
     "metadata": {},
     "output_type": "execute_result"
    }
   ],
   "source": [
    "# Ac to Ha\n",
    "converter.convert_area(247.1, \"ac\", \"ha\")"
   ]
  },
  {
   "cell_type": "markdown",
   "id": "79e49460",
   "metadata": {},
   "source": [
    "### Lenght"
   ]
  },
  {
   "cell_type": "code",
   "execution_count": 13,
   "id": "e23b845f",
   "metadata": {
    "ExecuteTime": {
     "end_time": "2022-08-30T19:54:47.787119Z",
     "start_time": "2022-08-30T19:54:47.769958Z"
    }
   },
   "outputs": [
    {
     "data": {
      "text/plain": [
       "1000.0"
      ]
     },
     "execution_count": 13,
     "metadata": {},
     "output_type": "execute_result"
    }
   ],
   "source": [
    "# cm to mm\n",
    "converter.convert_lenght(100, \"cm\", \"mm\")"
   ]
  },
  {
   "cell_type": "code",
   "execution_count": 14,
   "id": "3ae93b3c",
   "metadata": {
    "ExecuteTime": {
     "end_time": "2022-08-30T19:56:47.464245Z",
     "start_time": "2022-08-30T19:56:47.457496Z"
    }
   },
   "outputs": [
    {
     "data": {
      "text/plain": [
       "254.0"
      ]
     },
     "execution_count": 14,
     "metadata": {},
     "output_type": "execute_result"
    }
   ],
   "source": [
    "# Ac to Ha\n",
    "converter.convert_lenght(100, \"in\", \"cm\")"
   ]
  },
  {
   "cell_type": "markdown",
   "id": "1ee34afc",
   "metadata": {},
   "source": [
    "### Currency"
   ]
  },
  {
   "cell_type": "code",
   "execution_count": 15,
   "id": "083b7e8c",
   "metadata": {},
   "outputs": [
    {
     "name": "stdout",
     "output_type": "stream",
     "text": [
      "01-09-2022 11:20:40.306 INFO utils - get_currency_quotes: Requesting from https://economia.awesomeapi.com.br/json/daily/BRL-USD/2\n",
      "01-09-2022 11:20:41.463 INFO utils - get_currency_quotes: Got the values for BRLUSD with success\n"
     ]
    },
    {
     "data": {
      "text/plain": [
       "0.965"
      ]
     },
     "execution_count": 15,
     "metadata": {},
     "output_type": "execute_result"
    }
   ],
   "source": [
    "# BRL to USD\n",
    "converter.convert_currency(5, \"BRL\", \"USD\")"
   ]
  },
  {
   "cell_type": "code",
   "execution_count": 16,
   "id": "8371bedd-f8c1-4f1a-8e0c-6b7174611832",
   "metadata": {},
   "outputs": [
    {
     "name": "stdout",
     "output_type": "stream",
     "text": [
      "01-09-2022 11:20:41.478 INFO utils - get_currency_quotes: Requesting from https://economia.awesomeapi.com.br/json/daily/BRL-EUR/2\n",
      "01-09-2022 11:20:41.796 INFO utils - get_currency_quotes: Got the values for BRLEUR with success\n"
     ]
    },
    {
     "data": {
      "text/plain": [
       "0.961"
      ]
     },
     "execution_count": 16,
     "metadata": {},
     "output_type": "execute_result"
    }
   ],
   "source": [
    "# BRL to USD\n",
    "converter.convert_currency(5, \"BRL\", \"EUR\")"
   ]
  },
  {
   "cell_type": "code",
   "execution_count": 17,
   "id": "9a60c9e2-d925-4b57-86ee-c7bbccd74485",
   "metadata": {},
   "outputs": [
    {
     "name": "stdout",
     "output_type": "stream",
     "text": [
      "01-09-2022 11:20:41.819 INFO utils - get_currency_quotes: Requesting from https://economia.awesomeapi.com.br/json/daily/USD-EUR/2\n",
      "01-09-2022 11:20:41.996 INFO utils - get_currency_quotes: Got the values for USDEUR with success\n"
     ]
    },
    {
     "data": {
      "text/plain": [
       "99.63"
      ]
     },
     "execution_count": 17,
     "metadata": {},
     "output_type": "execute_result"
    }
   ],
   "source": [
    "# USD TO EUR\n",
    "converter.convert_currency(100, \"USD\", \"EUR\")"
   ]
  },
  {
   "cell_type": "markdown",
   "id": "d7cea837",
   "metadata": {},
   "source": [
    "### Quotes"
   ]
  },
  {
   "cell_type": "code",
   "execution_count": 18,
   "id": "0ea11b45",
   "metadata": {},
   "outputs": [
    {
     "data": {
      "text/plain": [
       "36743.767"
      ]
     },
     "execution_count": 18,
     "metadata": {},
     "output_type": "execute_result"
    }
   ],
   "source": [
    "# USD/Bushel to USD/Ton\n",
    "converter.convert_quotes(1000, \"USD/bushel\", \"USD/ton\", \"Soja\")"
   ]
  },
  {
   "cell_type": "code",
   "execution_count": 20,
   "id": "5bdc14a0-0474-4ac1-bdae-0bf5aaa60fcf",
   "metadata": {},
   "outputs": [
    {
     "name": "stdout",
     "output_type": "stream",
     "text": [
      "01-09-2022 11:20:49.565 INFO utils - get_currency_quotes: Requesting from https://economia.awesomeapi.com.br/json/daily/BRL-USD/2\n",
      "01-09-2022 11:20:49.706 INFO utils - get_currency_quotes: Got the values for BRLUSD with success\n"
     ]
    },
    {
     "data": {
      "text/plain": [
       "1.459"
      ]
     },
     "execution_count": 20,
     "metadata": {},
     "output_type": "execute_result"
    }
   ],
   "source": [
    "# BRL/sc to c/lb\n",
    "converter.convert_quotes(10, \"BRL/sc\", \"c/lb\", \"Café\")"
   ]
  }
 ],
 "metadata": {
  "kernelspec": {
   "display_name": "Python 3 (ipykernel)",
   "language": "python",
   "name": "python3"
  },
  "language_info": {
   "codemirror_mode": {
    "name": "ipython",
    "version": 3
   },
   "file_extension": ".py",
   "mimetype": "text/x-python",
   "name": "python",
   "nbconvert_exporter": "python",
   "pygments_lexer": "ipython3",
   "version": "3.8.13"
  },
  "toc": {
   "base_numbering": 1,
   "nav_menu": {},
   "number_sections": true,
   "sideBar": true,
   "skip_h1_title": true,
   "title_cell": "Sumário",
   "title_sidebar": "Sumário",
   "toc_cell": true,
   "toc_position": {},
   "toc_section_display": true,
   "toc_window_display": true
  }
 },
 "nbformat": 4,
 "nbformat_minor": 5
}
